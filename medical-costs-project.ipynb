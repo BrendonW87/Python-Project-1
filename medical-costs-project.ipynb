{
 "cells": [
  {
   "cell_type": "markdown",
   "metadata": {},
   "source": [
    "# U.S. Medical Insurance Costs\n",
    "\n",
    " ##### In this project, I'll be looking at some key attributes of individual insurance policy holders, and analyze the accompanying data to determine which atrributes are greater factors in determining insurance costs. The questions I aim to answer are as follows:\n",
    "\n",
    "* Age: Which age group pays the most in medical bills?\n",
    "* Sex: Does gender have an effect on costs?\n",
    "* Health: Do smokers typically pay more than non-smokers? What about high vs low BMI?\n",
    "* Children: What is the average cost increase per additional child?\n",
    "* Region: Does any region pay significanlty more than others? If so, why? Are certain regions more prone to health issues or unhealthy habits?\n"
   ]
  },
  {
   "cell_type": "code",
   "execution_count": 1,
   "metadata": {},
   "outputs": [],
   "source": [
    "#import csv library\n",
    "import csv"
   ]
  },
  {
   "cell_type": "markdown",
   "metadata": {},
   "source": [
    "### To start, after importing the csv library, empty lists are created in order to store every instance of each attribute"
   ]
  },
  {
   "cell_type": "code",
   "execution_count": 2,
   "metadata": {},
   "outputs": [],
   "source": [
    "ages = []\n",
    "sexes = []\n",
    "bmis = []\n",
    "nums_of_children = []\n",
    "smoker_statuses = []\n",
    "regions = []\n",
    "costs = []"
   ]
  },
  {
   "cell_type": "code",
   "execution_count": 3,
   "metadata": {},
   "outputs": [],
   "source": [
    "#defining a function to read through each row from insurance.csv\n",
    "def populate_lists(list_name, csv_file, col_name):\n",
    "    with open(csv_file) as csv_info:\n",
    "        csv_dict = csv.DictReader(csv_info)\n",
    "        #add each atttribute to its designated list\n",
    "        for row in csv_dict:\n",
    "            list_name.append(row[col_name])"
   ]
  },
  {
   "cell_type": "markdown",
   "metadata": {},
   "source": [
    "### Above, a function is created in order to populate each attribute list. The function reads each line of the provided csv file, and appends each associated value to its relative list defined before.\n",
    "\n",
    "### For the next step below, the function is ran for each of the 7 lists. As a resut, the lists are now fully populated"
   ]
  },
  {
   "cell_type": "code",
   "execution_count": 4,
   "metadata": {
    "scrolled": false
   },
   "outputs": [],
   "source": [
    "populate_lists(ages, 'insurance.csv', 'age')\n",
    "populate_lists(sexes, 'insurance.csv', 'sex')\n",
    "populate_lists(bmis, 'insurance.csv', 'bmi')\n",
    "populate_lists(nums_of_children, 'insurance.csv', 'children')\n",
    "populate_lists(smoker_statuses, 'insurance.csv', 'smoker')\n",
    "populate_lists(regions, 'insurance.csv', 'region')\n",
    "populate_lists(costs, 'insurance.csv', 'charges')"
   ]
  },
  {
   "cell_type": "markdown",
   "metadata": {},
   "source": [
    "### Now that each column from the csv is placed into lists, we can go ahead and construct a dictionary labeling each row starting with 1, and assigning each row it's own dictionary"
   ]
  },
  {
   "cell_type": "code",
   "execution_count": 5,
   "metadata": {},
   "outputs": [],
   "source": [
    "#create a diciontary holding each individual patient's dictionary \n",
    "patient_dict = {}\n",
    "for i in range(0, 1338):\n",
    "    patient_dict[i + 1] = {'Age': ages[i], 'Sex': sexes[i], 'BMI': bmis[i], 'Children': nums_of_children[i], 'Smoker': smoker_statuses[i], 'Region': regions[i], 'Charges': costs[i]}\n",
    "    "
   ]
  },
  {
   "cell_type": "markdown",
   "metadata": {},
   "source": [
    "### With everything organized we can begin to analyze the data to answer each of the questions introduced. I start below by searching through the ages list to find each unique age and sort it. This will help to determine the ranges of age groups in the data captured"
   ]
  },
  {
   "cell_type": "code",
   "execution_count": 6,
   "metadata": {
    "scrolled": true
   },
   "outputs": [
    {
     "name": "stdout",
     "output_type": "stream",
     "text": [
      "['18', '19', '20', '21', '22', '23', '24', '25', '26', '27', '28', '29', '30', '31', '32', '33', '34', '35', '36', '37', '38', '39', '40', '41', '42', '43', '44', '45', '46', '47', '48', '49', '50', '51', '52', '53', '54', '55', '56', '57', '58', '59', '60', '61', '62', '63', '64']\n"
     ]
    }
   ],
   "source": [
    "#define a list that finds how many unique ages are recorded\n",
    "unique_ages = []\n",
    "for age in ages:\n",
    "    if age not in unique_ages:\n",
    "        unique_ages.append(age)\n",
    "#sort list to easily identify age groups\n",
    "unique_ages = sorted(unique_ages)\n",
    "print(unique_ages)"
   ]
  },
  {
   "cell_type": "markdown",
   "metadata": {},
   "source": [
    "### Now I set up a separate dictionary for each age group that will capture how many inidividuals are in that group, and what the average charge is"
   ]
  },
  {
   "cell_type": "code",
   "execution_count": 7,
   "metadata": {},
   "outputs": [
    {
     "name": "stdout",
     "output_type": "stream",
     "text": [
      "Ages 18-19: {'Count': 137, 'Average': 8407.35}\n",
      "Ages 20-29: {'Count': 280, 'Average': 9561.75}\n",
      "Ages 30-39: {'Count': 257, 'Average': 11738.78}\n",
      "Ages 40-49: {'Count': 279, 'Average': 14399.2}\n",
      "Ages 50-59: {'Count': 271, 'Average': 16495.23}\n",
      "Ages 60-64: {'Count': 114, 'Average': 21248.02}\n"
     ]
    }
   ],
   "source": [
    "\n",
    "#declare dictionaries for each age group, containing count and average\n",
    "teens = {'Count': 0, 'Average': 0}\n",
    "twenties = {'Count': 0, 'Average': 0}\n",
    "thirties = {'Count': 0, 'Average': 0}\n",
    "forties = {'Count': 0, 'Average': 0}\n",
    "fifties = {'Count': 0, 'Average': 0}\n",
    "sixties = {'Count': 0, 'Average': 0}\n",
    "teen_total = 0\n",
    "twenties_total = 0\n",
    "thirties_total = 0\n",
    "forties_total = 0\n",
    "fifties_total = 0\n",
    "sixties_total = 0\n",
    "#loop to count individuals in age groups and determine average cost\n",
    "for i in range(1, 1339):\n",
    "    current_age = int(patient_dict[i]['Age'])\n",
    "    if current_age < 20:\n",
    "        teens['Count'] +=1\n",
    "        teen_total += float(patient_dict[i]['Charges'])\n",
    "        teens['Average'] = round((teen_total / teens['Count']), 2)\n",
    "    elif current_age >= 20 and current_age <30:\n",
    "        twenties['Count'] += 1\n",
    "        twenties_total += float(patient_dict[i]['Charges'])\n",
    "        twenties['Average'] = round((twenties_total / twenties['Count']), 2)\n",
    "    elif current_age >= 30 and current_age < 40:\n",
    "        thirties['Count'] += 1\n",
    "        thirties_total += float(patient_dict[i]['Charges'])\n",
    "        thirties['Average'] = round((thirties_total / thirties['Count']), 2)\n",
    "    elif current_age >= 40 and current_age < 50:\n",
    "        forties['Count'] += 1\n",
    "        forties_total += float(patient_dict[i]['Charges'])\n",
    "        forties['Average'] = round((forties_total / forties['Count']), 2)\n",
    "    elif current_age >= 50 and current_age < 60:\n",
    "        fifties['Count'] += 1\n",
    "        fifties_total += float(patient_dict[i]['Charges'])\n",
    "        fifties['Average'] = round((fifties_total / fifties['Count']), 2)\n",
    "    elif current_age >= 60:\n",
    "        sixties['Count'] += 1\n",
    "        sixties_total += float(patient_dict[i]['Charges'])\n",
    "        sixties['Average'] = round((sixties_total / sixties['Count']), 2)\n",
    "#print out each dictionary for results        \n",
    "print('Ages 18-19:', teens)\n",
    "print('Ages 20-29:', twenties)\n",
    "print('Ages 30-39:', thirties)\n",
    "print('Ages 40-49:', forties)\n",
    "print('Ages 50-59:', fifties)\n",
    "print('Ages 60-64:', sixties)\n"
   ]
  },
  {
   "cell_type": "markdown",
   "metadata": {},
   "source": [
    "### From these results, we can conclude that as people age, they pay more and more on average for medical bills, with the largest jump in increase from 50s to 60s\n",
    "\n",
    "### Using the same idea as above, we can also determine which gender pays more on average"
   ]
  },
  {
   "cell_type": "code",
   "execution_count": 8,
   "metadata": {},
   "outputs": [
    {
     "name": "stdout",
     "output_type": "stream",
     "text": [
      "Males: {'Count': 676, 'Average': 13956.75}\n",
      "Females: {'Count': 662, 'Average': 12569.58}\n"
     ]
    }
   ],
   "source": [
    "males = {'Count': 0, 'Average': 0}\n",
    "females = {'Count': 0, 'Average': 0}\n",
    "male_total = 0\n",
    "female_total = 0\n",
    "for i in range(1,1339):\n",
    "    if patient_dict[i]['Sex'] == 'male':\n",
    "        males['Count'] += 1\n",
    "        male_total += float(patient_dict[i]['Charges'])\n",
    "        males['Average'] = round((male_total / males['Count']), 2)\n",
    "    elif patient_dict[i]['Sex'] == 'female':\n",
    "        females['Count'] += 1\n",
    "        female_total += float(patient_dict[i]['Charges'])\n",
    "        females['Average'] = round((female_total / females['Count']), 2)\n",
    "\n",
    "print('Males:', males)\n",
    "print('Females:', females)\n"
   ]
  },
  {
   "cell_type": "markdown",
   "metadata": {},
   "source": [
    "### From above, we can conclude that males, on average, pay slightly more in medical costs than females\n",
    "\n",
    "### Again, we can use the same formulas to determine what the affect smoking has on medical costs"
   ]
  },
  {
   "cell_type": "code",
   "execution_count": 9,
   "metadata": {},
   "outputs": [
    {
     "name": "stdout",
     "output_type": "stream",
     "text": [
      "Non-Smokers: {'Count': 1064, 'Total': 8974061.468918996, 'Average': 8434.27}\n",
      "Smokers: {'Count': 274, 'Total': 8781763.52184, 'Average': 32050.23}\n"
     ]
    }
   ],
   "source": [
    "#define dictionaries and keys with empty values to start\n",
    "non_smokers = {'Count': 0, 'Total': 0, 'Average': 0}\n",
    "smokers = {'Count': 0, 'Total': 0, 'Average': 0}\n",
    "#define loop to check each patient and update totals from above as necessary\n",
    "for i in range(1,1339):\n",
    "    if patient_dict[i]['Smoker'] == 'no':\n",
    "        non_smokers['Count'] += 1\n",
    "        non_smokers['Total'] += float(patient_dict[i]['Charges'])\n",
    "        non_smokers['Average'] = round((non_smokers['Total'] / non_smokers['Count']), 2)\n",
    "    else:\n",
    "        smokers['Count'] += 1\n",
    "        smokers['Total'] += float(patient_dict[i]['Charges'])\n",
    "        smokers['Average'] = round((smokers['Total'] / smokers['Count']), 2)\n",
    "        \n",
    "#print to see results \n",
    "print('Non-Smokers:', non_smokers)\n",
    "print('Smokers:', smokers)"
   ]
  },
  {
   "cell_type": "code",
   "execution_count": 10,
   "metadata": {
    "scrolled": true
   },
   "outputs": [
    {
     "name": "stdout",
     "output_type": "stream",
     "text": [
      "Smokers, on average, pay 280.0% more on medical costs than non-smokers\n"
     ]
    }
   ],
   "source": [
    "#calculate the difference on avg that smokers pay over non-smokers\n",
    "smoker_additional = round(((smokers['Average'] - non_smokers['Average']) / non_smokers['Average']) * 100, 0)\n",
    "print(('Smokers, on average, pay {}% more on medical costs than non-smokers').format(smoker_additional))"
   ]
  },
  {
   "cell_type": "markdown",
   "metadata": {},
   "source": [
    "### Above answers the next question, and it is no surprise that smokers pay significantly more on average than non-smokers. Next, we'll check how an individual's BMI may affect their medical costs."
   ]
  },
  {
   "cell_type": "code",
   "execution_count": 11,
   "metadata": {
    "scrolled": true
   },
   "outputs": [
    {
     "name": "stdout",
     "output_type": "stream",
     "text": [
      "53.13\n",
      "15.96\n"
     ]
    }
   ],
   "source": [
    "#check the min and max values of BMI to get a sense of range\n",
    "print(max(bmis))\n",
    "print(min(bmis))"
   ]
  },
  {
   "cell_type": "code",
   "execution_count": 12,
   "metadata": {
    "scrolled": false
   },
   "outputs": [
    {
     "name": "stdout",
     "output_type": "stream",
     "text": [
      "BMI less than 25: {'Count': 245, 'Total': 2519144.996220001, 'Average': 10282.22}\n",
      "BMI between 25 and 34: {'Count': 777, 'Total': 9879271.731198989, 'Average': 12714.64}\n",
      "BMI between 35 and 44: {'Count': 296, 'Total': 5006449.728329997, 'Average': 16913.68}\n",
      "BMI 45 and above: {'Count': 20, 'Total': 350958.53501, 'Average': 17547.93}\n"
     ]
    }
   ],
   "source": [
    "#define dictionaries over 4 ranges of BMI\n",
    "bmi_1 = {'Count': 0, 'Total': 0, 'Average': 0}\n",
    "bmi_2 = {'Count': 0, 'Total': 0, 'Average': 0}\n",
    "bmi_3 = {'Count': 0, 'Total': 0, 'Average': 0}\n",
    "bmi_4 = {'Count': 0, 'Total': 0, 'Average': 0}\n",
    "#loop through each patient to update totals for the BMI groups they are in\n",
    "for i in range(1,1339):\n",
    "    if float(patient_dict[i]['BMI']) < 25:\n",
    "        bmi_1['Count'] += 1\n",
    "        bmi_1['Total'] += float(patient_dict[i]['Charges'])\n",
    "        bmi_1['Average'] = round((bmi_1['Total'] / bmi_1['Count']), 2)\n",
    "    elif float(patient_dict[i]['BMI']) >= 25 and float(patient_dict[i]['BMI']) < 35:\n",
    "        bmi_2['Count'] += 1\n",
    "        bmi_2['Total'] += float(patient_dict[i]['Charges'])\n",
    "        bmi_2['Average'] = round((bmi_2['Total'] / bmi_2['Count']), 2)\n",
    "    elif float(patient_dict[i]['BMI']) >= 35 and float(patient_dict[i]['BMI']) < 45:\n",
    "        bmi_3['Count'] += 1\n",
    "        bmi_3['Total'] += float(patient_dict[i]['Charges'])\n",
    "        bmi_3['Average'] = round((bmi_3['Total'] / bmi_3['Count']), 2)\n",
    "    elif float(patient_dict[i]['BMI']) >= 45:\n",
    "        bmi_4['Count'] += 1\n",
    "        bmi_4['Total'] += float(patient_dict[i]['Charges'])\n",
    "        bmi_4['Average'] = round((bmi_4['Total'] / bmi_4['Count']), 2)\n",
    "\n",
    "#print to check results         \n",
    "print('BMI less than 25:', bmi_1)\n",
    "print('BMI between 25 and 34:', bmi_2)\n",
    "print('BMI between 35 and 44:', bmi_3)\n",
    "print('BMI 45 and above:', bmi_4)"
   ]
  },
  {
   "cell_type": "markdown",
   "metadata": {},
   "source": [
    "### From the results above, it does appear that the higher BMI, the higher the costs. The largest jump in costs is from BMI group 25-34 to BMI group 35-44\n",
    "\n",
    "### Next we take a look at additional costs per child"
   ]
  },
  {
   "cell_type": "code",
   "execution_count": 13,
   "metadata": {
    "scrolled": true
   },
   "outputs": [
    {
     "name": "stdout",
     "output_type": "stream",
     "text": [
      "5\n"
     ]
    }
   ],
   "source": [
    "#check max num of children to get range\n",
    "print(max(nums_of_children))"
   ]
  },
  {
   "cell_type": "code",
   "execution_count": 14,
   "metadata": {
    "scrolled": false
   },
   "outputs": [
    {
     "name": "stdout",
     "output_type": "stream",
     "text": [
      "No children: {'Count': 574, 'Total': 7098069.995338997, 'Average': 12365.98}\n",
      "One child: {'Count': 324, 'Total': 4124899.673449997, 'Average': 12731.17}\n",
      "Two children: {'Count': 240, 'Total': 3617655.296149999, 'Average': 15073.56}\n",
      "Three children: {'Count': 157, 'Total': 2410784.983589999, 'Average': 15355.32}\n",
      "Four children: {'Count': 25, 'Total': 346266.40777999995, 'Average': 13850.66}\n",
      "Five children: {'Count': 18, 'Total': 158148.63445, 'Average': 8786.04}\n"
     ]
    }
   ],
   "source": [
    "#define dictionaries for each amount of children\n",
    "no_children = {'Count': 0, 'Total': 0, 'Average': 0}\n",
    "one_child = {'Count': 0, 'Total': 0, 'Average': 0}\n",
    "two_children = {'Count': 0, 'Total': 0, 'Average': 0}\n",
    "three_children = {'Count': 0, 'Total': 0, 'Average': 0}\n",
    "four_children = {'Count': 0, 'Total': 0, 'Average': 0}\n",
    "five_children = {'Count': 0, 'Total': 0, 'Average': 0}\n",
    "#define function to loop through patients\n",
    "def children_cost(child_dict, child_num):\n",
    "    for i in range(1,1339):\n",
    "        child_count = int(patient_dict[i]['Children'])\n",
    "        if child_count == child_num:\n",
    "            child_dict['Count'] += 1\n",
    "            child_dict['Total'] += float(patient_dict[i]['Charges'])\n",
    "            child_dict['Average'] = round((child_dict['Total'] / child_dict['Count']), 2)\n",
    "    return child_dict\n",
    "\n",
    "#run the function for each dictionary and print the results\n",
    "print('No children:', children_cost(no_children, 0))\n",
    "print('One child:', children_cost(one_child, 1))\n",
    "print('Two children:', children_cost(two_children, 2))\n",
    "print('Three children:', children_cost(three_children, 3))\n",
    "print('Four children:', children_cost(four_children, 4))\n",
    "print('Five children:', children_cost(five_children, 5))"
   ]
  },
  {
   "cell_type": "markdown",
   "metadata": {},
   "source": [
    "### It appears the average cost for patients increases about 300 dollars per additional child. However, our numbers skew once the child count gets to be 4 and over. These averages are inconclusive since the sample sizes are significantly lower than the others\n",
    "\n",
    "### Lastly, we will take a look at which regions are paying the most for their medical bills on average"
   ]
  },
  {
   "cell_type": "code",
   "execution_count": 15,
   "metadata": {
    "scrolled": false
   },
   "outputs": [
    {
     "name": "stdout",
     "output_type": "stream",
     "text": [
      "['southwest', 'southeast', 'northwest', 'northeast']\n"
     ]
    }
   ],
   "source": [
    "#first double-check to see which regions are defined in the dataset\n",
    "unique_regions = []\n",
    "for region in regions:\n",
    "    if region not in unique_regions:\n",
    "        unique_regions.append(region)\n",
    "print(unique_regions)"
   ]
  },
  {
   "cell_type": "code",
   "execution_count": 16,
   "metadata": {
    "scrolled": true
   },
   "outputs": [
    {
     "name": "stdout",
     "output_type": "stream",
     "text": [
      "Southwest Region: {'Count': 325, 'Total': 4012754.647620001, 'Average': 12346.94}\n",
      "Southeast Region: {'Count': 364, 'Total': 5363689.763290002, 'Average': 14735.41}\n",
      "Northwest Region: {'Count': 325, 'Total': 4035711.9965399993, 'Average': 12417.58}\n",
      "Northeast Region: {'Count': 324, 'Total': 4343668.583308999, 'Average': 13406.38}\n"
     ]
    }
   ],
   "source": [
    "#create dictionaries for each region\n",
    "southwest_reg = {'Count': 0, 'Total': 0, 'Average': 0}\n",
    "southeast_reg = {'Count': 0, 'Total': 0, 'Average': 0}\n",
    "northwest_reg = {'Count': 0, 'Total': 0, 'Average': 0}\n",
    "northeast_reg = {'Count': 0, 'Total': 0, 'Average': 0}\n",
    "#define function to loop through patients and update region totals\n",
    "def costs_by_region(region_dict, region):\n",
    "    for i in range(1,1339):\n",
    "        current_reg = patient_dict[i]['Region']\n",
    "        if current_reg == region:\n",
    "            region_dict['Count'] += 1\n",
    "            region_dict['Total'] += float(patient_dict[i]['Charges'])\n",
    "            region_dict['Average'] = round((region_dict['Total'] / region_dict['Count']), 2)\n",
    "    return region_dict\n",
    "\n",
    "#run function for each region and print results\n",
    "print('Southwest Region:', costs_by_region(southwest_reg, 'southwest'))\n",
    "print('Southeast Region:', costs_by_region(southeast_reg, 'southeast'))\n",
    "print('Northwest Region:', costs_by_region(northwest_reg, 'northwest'))\n",
    "print('Northeast Region:', costs_by_region(northeast_reg, 'northeast'))            \n",
    "    "
   ]
  },
  {
   "cell_type": "markdown",
   "metadata": {},
   "source": [
    "### Now that we can see the Southeast region pays more on average than other regions, we can dig a little deeper. Let's take a look at the number of smokers and the average BMI of each region to determine if those could play a factor. We can also check if any region typically has higher child count than others"
   ]
  },
  {
   "cell_type": "code",
   "execution_count": 17,
   "metadata": {},
   "outputs": [
    {
     "name": "stdout",
     "output_type": "stream",
     "text": [
      "Southwest Stats: {'Smokers': '17.85%', 'Avg BMI': 30.6, 'Avg Child Count': 1.1}\n",
      "Southeast Stats: {'Smokers': '25.0%', 'Avg BMI': 33.36, 'Avg Child Count': 1.0}\n",
      "Northwest Stats: {'Smokers': '17.85%', 'Avg BMI': 29.2, 'Avg Child Count': 1.1}\n",
      "Northeast Stats: {'Smokers': '20.68%', 'Avg BMI': 29.17, 'Avg Child Count': 1.0}\n"
     ]
    }
   ],
   "source": [
    "#define dictionaries for region stats\n",
    "sw_stats = {'Smokers': 0, 'Avg BMI': 0, 'Avg Child Count': 0}\n",
    "se_stats = {'Smokers': 0, 'Avg BMI': 0, 'Avg Child Count': 0}\n",
    "nw_stats = {'Smokers': 0, 'Avg BMI': 0, 'Avg Child Count': 0}\n",
    "ne_stats = {'Smokers': 0, 'Avg BMI': 0, 'Avg Child Count': 0}\n",
    "#define function to loop through patient dictionary and update stats\n",
    "def stats_by_region(region_dict, region):\n",
    "    total_bmi = 0\n",
    "    total_count = 0\n",
    "    total_child = 0\n",
    "    smoker_count = 0\n",
    "    for i in range(1,1339):\n",
    "        current_reg = patient_dict[i]['Region']\n",
    "        current_smoke = patient_dict[i]['Smoker']\n",
    "        current_bmi = float(patient_dict[i]['BMI'])\n",
    "        current_child = float(patient_dict[i]['Children'])\n",
    "        if current_reg == region:\n",
    "            total_count += 1\n",
    "            total_bmi += current_bmi\n",
    "            total_child += current_child\n",
    "            if current_smoke == 'yes':\n",
    "                smoker_count += 1\n",
    "    region_dict['Avg BMI'] = round(total_bmi / total_count, 2)\n",
    "    region_dict['Avg Child Count'] = round(total_child / total_count, 1)\n",
    "    region_dict['Smokers'] = str(round(float((smoker_count / total_count)*100), 2)) + '%'\n",
    "    return region_dict\n",
    "#run function for each region and print results\n",
    "print('Southwest Stats:', stats_by_region(sw_stats, 'southwest'))\n",
    "print('Southeast Stats:', stats_by_region(se_stats, 'southeast'))\n",
    "print('Northwest Stats:', stats_by_region(nw_stats, 'northwest'))\n",
    "print('Northeast Stats:', stats_by_region(ne_stats, 'northeast'))\n",
    "            "
   ]
  },
  {
   "cell_type": "markdown",
   "metadata": {},
   "source": [
    "### As we can see from these results, 25% of the patients from the Southeast region are smokers, which is significantly higher than the other regions. The average BMI for patients in the Southeast is also higher than the others, at 33.36. Thus it is fitting that the Southeast region would be paying more on average in medical bills. The child count is the same on average for each region, so this is likely not a factor in determing costs per region"
   ]
  },
  {
   "cell_type": "code",
   "execution_count": null,
   "metadata": {},
   "outputs": [],
   "source": []
  },
  {
   "cell_type": "code",
   "execution_count": null,
   "metadata": {},
   "outputs": [],
   "source": []
  }
 ],
 "metadata": {
  "kernelspec": {
   "display_name": "Python 3",
   "language": "python",
   "name": "python3"
  },
  "language_info": {
   "codemirror_mode": {
    "name": "ipython",
    "version": 3
   },
   "file_extension": ".py",
   "mimetype": "text/x-python",
   "name": "python",
   "nbconvert_exporter": "python",
   "pygments_lexer": "ipython3",
   "version": "3.8.8"
  }
 },
 "nbformat": 4,
 "nbformat_minor": 4
}
